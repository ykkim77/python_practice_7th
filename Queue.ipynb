{
  "cells": [
    {
      "cell_type": "markdown",
      "metadata": {
        "id": "view-in-github",
        "colab_type": "text"
      },
      "source": [
        "<a href=\"https://colab.research.google.com/github/ykkim77/python_practice_7th/blob/main/Queue.ipynb\" target=\"_parent\"><img src=\"https://colab.research.google.com/assets/colab-badge.svg\" alt=\"Open In Colab\"/></a>"
      ]
    },
    {
      "cell_type": "markdown",
      "metadata": {
        "id": "_17Zhg4BXgzQ"
      },
      "source": [
        "# 큐"
      ]
    },
    {
      "cell_type": "markdown",
      "metadata": {
        "id": "Q_jsQatEZHj0"
      },
      "source": [
        "## 큐 핵심 코드 구현"
      ]
    },
    {
      "cell_type": "markdown",
      "metadata": {
        "id": "qO2Hsd0Q1b7y"
      },
      "source": [
        "- 큐 정의"
      ]
    },
    {
      "cell_type": "code",
      "execution_count": null,
      "metadata": {
        "id": "gJHLDQa3Xat-"
      },
      "outputs": [],
      "source": [
        "queue = [None, None, None]\n",
        "front = rear = -1\n"
      ]
    },
    {
      "cell_type": "markdown",
      "metadata": {
        "id": "3KOQIqLRZaed"
      },
      "source": [
        "- enQueue 구현"
      ]
    },
    {
      "cell_type": "code",
      "execution_count": null,
      "metadata": {
        "id": "lDjoQ5CQZcKM"
      },
      "outputs": [],
      "source": [
        "rear += 1\n",
        "queue[rear] = 'python'"
      ]
    },
    {
      "cell_type": "code",
      "execution_count": null,
      "metadata": {
        "id": "lMW8jlcY1b73"
      },
      "outputs": [],
      "source": [
        "rear += 1\n",
        "queue[rear] = 'java'"
      ]
    },
    {
      "cell_type": "code",
      "execution_count": null,
      "metadata": {
        "id": "KWJU4W0x1b75"
      },
      "outputs": [],
      "source": [
        "rear += 1\n",
        "queue[rear] = 'scala'"
      ]
    },
    {
      "cell_type": "markdown",
      "metadata": {
        "id": "qYj_9cLP1b76"
      },
      "source": [
        "- 큐에 있는 데이터 알아보기"
      ]
    },
    {
      "cell_type": "code",
      "execution_count": null,
      "metadata": {
        "id": "WA4eiIne1b77"
      },
      "outputs": [],
      "source": [
        "print(\"----- 큐 상태 -----\")\n",
        "print ( '[출구] <-- ', end='')\n",
        "for i in range(0, len(queue), 1) :\n",
        "\tprint(queue[i], end=' ')\n",
        "print ( '<-- [입구] ')"
      ]
    },
    {
      "cell_type": "markdown",
      "metadata": {
        "id": "C0_JhnFu1b79"
      },
      "source": [
        "- dequeue 구현"
      ]
    },
    {
      "cell_type": "code",
      "execution_count": null,
      "metadata": {
        "id": "piElVZag1b7-"
      },
      "outputs": [],
      "source": [
        "front += 1\n",
        "data = queue[front]\n",
        "queue[front] = None\n",
        "print('deQueue --> ', data)"
      ]
    },
    {
      "cell_type": "code",
      "execution_count": null,
      "metadata": {
        "id": "O-wNhlXD1b7-"
      },
      "outputs": [],
      "source": [
        "print(\"----- 큐 상태 -----\")\n",
        "print ( '[출구] <-- ', end='')\n",
        "for i in range(0, len(queue), 1) :\n",
        "\tprint(queue[i], end=' ')\n",
        "print ( '<-- [입구] ')"
      ]
    },
    {
      "cell_type": "code",
      "execution_count": null,
      "metadata": {
        "id": "u9GAkrjh1b7_"
      },
      "outputs": [],
      "source": [
        "front += 1\n",
        "data = queue[front]\n",
        "queue[front] = None\n",
        "print('deQueue --> ', data)"
      ]
    },
    {
      "cell_type": "code",
      "execution_count": null,
      "metadata": {
        "id": "yHwCwjC_1b8A"
      },
      "outputs": [],
      "source": [
        "print(\"----- 큐 상태 -----\")\n",
        "print ( '[출구] <-- ', end='')\n",
        "for i in range(0, len(queue), 1) :\n",
        "\tprint(queue[i], end=' ')\n",
        "print ( '<-- [입구] ')"
      ]
    },
    {
      "cell_type": "code",
      "execution_count": null,
      "metadata": {
        "id": "7cFuvZ4N1b8A"
      },
      "outputs": [],
      "source": [
        "front += 1\n",
        "data = queue[front]\n",
        "queue[front] = None\n",
        "print('deQueue --> ', data)"
      ]
    },
    {
      "cell_type": "code",
      "execution_count": null,
      "metadata": {
        "id": "n9uxy4eZ1b8B"
      },
      "outputs": [],
      "source": [
        "print(\"----- 큐 상태 -----\")\n",
        "print ( '[출구] <-- ', end='')\n",
        "for i in range(0, len(queue), 1) :\n",
        "\tprint(queue[i], end=' ')\n",
        "print ( '<-- [입구] ')"
      ]
    },
    {
      "cell_type": "markdown",
      "metadata": {
        "id": "SL2Bn-T51b8B"
      },
      "source": [
        "- 큐에 있는 데이터 알아보기"
      ]
    },
    {
      "cell_type": "code",
      "execution_count": null,
      "metadata": {
        "id": "5pcrRJLp1b8C"
      },
      "outputs": [],
      "source": [
        "print(\"----- 큐 상태 -----\")\n",
        "print ( '[출구] <-- ', end='')\n",
        "for i in range(0, len(queue), 1) :\n",
        "\tprint(queue[i], end=' ')\n",
        "print ( '<-- [입구] ')"
      ]
    },
    {
      "cell_type": "markdown",
      "metadata": {
        "id": "tT1bYl2Y1b8C"
      },
      "source": [
        "## 큐 함수 구현"
      ]
    },
    {
      "cell_type": "markdown",
      "metadata": {
        "id": "MYgM3fmd1b8D"
      },
      "source": [
        "### enqueue 함수"
      ]
    },
    {
      "cell_type": "markdown",
      "metadata": {
        "id": "RuSS3yeg1b8D"
      },
      "source": [
        "- 큐가 꽉 찼는지 확인하는 isQueueFull 함수"
      ]
    },
    {
      "cell_type": "code",
      "execution_count": null,
      "metadata": {
        "id": "dyONgVp31b8D"
      },
      "outputs": [],
      "source": [
        "def isQueueFull() :\n",
        "\tglobal SIZE, queue, front, rear\n",
        "\tif (rear == SIZE-1) :\n",
        "\t\treturn True\n",
        "\telse :\n",
        "\t\treturn False"
      ]
    },
    {
      "cell_type": "markdown",
      "metadata": {
        "id": "1dU1p-kx1b8E"
      },
      "source": [
        "- 데이터 넣는 enQueue 함수 구현"
      ]
    },
    {
      "cell_type": "code",
      "execution_count": null,
      "metadata": {
        "id": "t3o_AVqN1b8E"
      },
      "outputs": [],
      "source": [
        "def enQueue(data) :\n",
        "\tglobal SIZE, queue, front, rear\n",
        "\tif (isQueueFull()) :\n",
        "\t\tprint(\"큐가 꽉 찼습니다.\")\n",
        "\t\treturn\n",
        "\trear += 1\n",
        "\tqueue[rear] = data"
      ]
    },
    {
      "cell_type": "markdown",
      "metadata": {
        "id": "FIftl1cl1b8E"
      },
      "source": [
        "- 큐가 비었는지 확인하는 isQueueEmpty 함수"
      ]
    },
    {
      "cell_type": "code",
      "execution_count": null,
      "metadata": {
        "id": "8-TnPVQH1b8F"
      },
      "outputs": [],
      "source": [
        "def isQueueEmpty() :\n",
        "\tglobal SIZE, queue, front, rear\n",
        "\tif (front == rear) :\n",
        "\t\treturn True\n",
        "\telse :\n",
        "\t\treturn False"
      ]
    },
    {
      "cell_type": "code",
      "execution_count": null,
      "metadata": {
        "id": "Cu9yXzTE1b8F"
      },
      "outputs": [],
      "source": [
        "def deQueue() :\n",
        "\tglobal SIZE, queue, front, rear\n",
        "\tif (isQueueEmpty()) :\n",
        "\t\tprint(\"큐가 비었습니다.\")\n",
        "\t\treturn None\n",
        "\tfront += 1\n",
        "\tdata = queue[front]\n",
        "\tqueue[front] = None\n",
        "\treturn data"
      ]
    },
    {
      "cell_type": "code",
      "source": [
        "def checkQueue():\n",
        "    print(\"----- 큐 상태 -----\")\n",
        "    print ( '[출구] <-- ', end='')\n",
        "    for i in range(0, len(queue), 1) :\n",
        "\t    print(queue[i], end=' ')\n",
        "    print ( '<-- [입구] ')"
      ],
      "metadata": {
        "id": "TN4yG36wAHA8"
      },
      "execution_count": null,
      "outputs": []
    },
    {
      "cell_type": "markdown",
      "metadata": {
        "id": "UjIlYwUD1b8F"
      },
      "source": [
        "- peek 함수 구현"
      ]
    },
    {
      "cell_type": "code",
      "execution_count": null,
      "metadata": {
        "id": "cOsZ1cul1b8G"
      },
      "outputs": [],
      "source": [
        "def peek() :\n",
        "\tglobal SIZE, queue, front, rear\n",
        "\tif (isQueueEmpty()) :\n",
        "\t\tprint(\"큐가 비었습니다.\")\n",
        "\t\treturn None\n",
        "\treturn queue[(front + 1) % SIZE]"
      ]
    },
    {
      "cell_type": "markdown",
      "metadata": {
        "id": "LjDBxiUN1b8G"
      },
      "source": [
        "- 함수 사용 (일반 큐)"
      ]
    },
    {
      "cell_type": "code",
      "execution_count": null,
      "metadata": {
        "id": "FVCUP1vD1b8G"
      },
      "outputs": [],
      "source": [
        "SIZE = 5\n",
        "queue = [ None for _ in range(SIZE) ]\n",
        "front = rear = -1\n",
        "\n",
        "enQueue('banana')\n",
        "enQueue('orange')\n",
        "enQueue('apple')\n",
        "enQueue('melon')\n",
        "enQueue('tomato')\n"
      ]
    },
    {
      "cell_type": "code",
      "source": [
        "checkQueue()"
      ],
      "metadata": {
        "colab": {
          "base_uri": "https://localhost:8080/"
        },
        "id": "fAEvnx5q__ma",
        "outputId": "5f73b971-0ec6-4d99-c4e6-fc844e226009"
      },
      "execution_count": null,
      "outputs": [
        {
          "output_type": "stream",
          "name": "stdout",
          "text": [
            "----- 큐 상태 -----\n",
            "[출구] <-- banana orange apple melon tomato <-- [입구] \n"
          ]
        }
      ]
    },
    {
      "cell_type": "code",
      "source": [
        "enQueue('water_melon')"
      ],
      "metadata": {
        "colab": {
          "base_uri": "https://localhost:8080/"
        },
        "id": "8tyLILy3AXTI",
        "outputId": "d46f05e2-4197-4948-80ea-6d010a287ba8"
      },
      "execution_count": null,
      "outputs": [
        {
          "output_type": "stream",
          "name": "stdout",
          "text": [
            "큐가 꽉 찼습니다.\n"
          ]
        }
      ]
    },
    {
      "cell_type": "code",
      "source": [
        "deQueue()\n",
        "checkQueue()"
      ],
      "metadata": {
        "colab": {
          "base_uri": "https://localhost:8080/"
        },
        "id": "W6zZQpL-AkBq",
        "outputId": "e7bedc52-b04f-4ace-aa70-f5878bbd8745"
      },
      "execution_count": null,
      "outputs": [
        {
          "output_type": "stream",
          "name": "stdout",
          "text": [
            "----- 큐 상태 -----\n",
            "[출구] <-- None orange apple melon tomato <-- [입구] \n"
          ]
        }
      ]
    },
    {
      "cell_type": "code",
      "source": [
        "deQueue()\n",
        "checkQueue()"
      ],
      "metadata": {
        "colab": {
          "base_uri": "https://localhost:8080/"
        },
        "id": "CR2qUn5dAsuK",
        "outputId": "9976bf68-7abf-4ed8-aad5-453d5a46aaea"
      },
      "execution_count": null,
      "outputs": [
        {
          "output_type": "stream",
          "name": "stdout",
          "text": [
            "----- 큐 상태 -----\n",
            "[출구] <-- None None apple melon tomato <-- [입구] \n"
          ]
        }
      ]
    },
    {
      "cell_type": "code",
      "source": [
        "deQueue()\n",
        "checkQueue()"
      ],
      "metadata": {
        "colab": {
          "base_uri": "https://localhost:8080/"
        },
        "id": "H56Oj3_dAujB",
        "outputId": "2cfc65eb-c541-48f2-9cce-059f1649b267"
      },
      "execution_count": null,
      "outputs": [
        {
          "output_type": "stream",
          "name": "stdout",
          "text": [
            "----- 큐 상태 -----\n",
            "[출구] <-- None None None melon tomato <-- [입구] \n"
          ]
        }
      ]
    },
    {
      "cell_type": "code",
      "source": [
        "enQueue('apple')"
      ],
      "metadata": {
        "colab": {
          "base_uri": "https://localhost:8080/"
        },
        "id": "yGXSEtOgAw7s",
        "outputId": "f81655c1-bc51-4494-8ec0-c32b236d4cf9"
      },
      "execution_count": null,
      "outputs": [
        {
          "output_type": "stream",
          "name": "stdout",
          "text": [
            "큐가 꽉 찼습니다.\n"
          ]
        }
      ]
    },
    {
      "cell_type": "markdown",
      "metadata": {
        "id": "ziQR7Kp81b8G"
      },
      "source": [
        "- 함수 사용 (원형 큐)"
      ]
    },
    {
      "cell_type": "markdown",
      "metadata": {
        "id": "9wDx0VZt1b8G"
      },
      "source": [
        "- 원형 큐를 고려한 isQueueFull 함수\n",
        "\n",
        "![circle](https://github.com/ykkim77/python_practice_7th/blob/main/images/circle.jpg?raw=1)"
      ]
    },
    {
      "cell_type": "markdown",
      "metadata": {
        "id": "qXQzjZDH1b8E"
      },
      "source": [
        "- 원형 큐를 고려한 enQueue 함수"
      ]
    },
    {
      "cell_type": "code",
      "execution_count": null,
      "metadata": {
        "id": "vaqmWYKa1b8H"
      },
      "outputs": [],
      "source": [
        "def isQueueFull() :\n",
        "\tglobal SIZE, queue, front, rear\n",
        "\tif ( (rear + 1) % SIZE == front) :\n",
        "\t\treturn True\n",
        "\telse :\n",
        "\t\treturn False"
      ]
    },
    {
      "cell_type": "code",
      "execution_count": null,
      "metadata": {
        "id": "FxzGi4PW1b8H"
      },
      "outputs": [],
      "source": [
        "def enQueue(data) :\n",
        "\tglobal SIZE, queue, front, rear\n",
        "\tif (isQueueFull()) :\n",
        "\t\tprint(\"큐가 꽉 찼습니다.\")\n",
        "\t\treturn\n",
        "\trear = (rear + 1) % SIZE\n",
        "\tqueue[rear] = data"
      ]
    },
    {
      "cell_type": "markdown",
      "metadata": {
        "id": "RfTEGYGN1b8I"
      },
      "source": [
        "- 원형큐를 고려한 deQueue 함수"
      ]
    },
    {
      "cell_type": "code",
      "execution_count": null,
      "metadata": {
        "id": "gJpx36Fh1b8I"
      },
      "outputs": [],
      "source": [
        "def deQueue() :\n",
        "\tglobal SIZE, queue, front, rear\n",
        "\tif (isQueueEmpty()) :\n",
        "\t\tprint(\"큐가 비었습니다.\")\n",
        "\t\treturn None\n",
        "\tfront = (front + 1) % SIZE\n",
        "\tdata = queue[front]\n",
        "\tqueue[front] = None\n",
        "\treturn data"
      ]
    },
    {
      "cell_type": "code",
      "execution_count": null,
      "metadata": {
        "id": "lbsM3qKd1b8I"
      },
      "outputs": [],
      "source": [
        "SIZE = 5\n",
        "queue = [ None for _ in range(SIZE) ]\n",
        "front = rear = 0\n",
        "\n",
        "enQueue('banana')\n",
        "enQueue('orange')\n",
        "enQueue('apple')\n",
        "enQueue('melon')\n"
      ]
    },
    {
      "cell_type": "code",
      "source": [
        "checkQueue()"
      ],
      "metadata": {
        "colab": {
          "base_uri": "https://localhost:8080/"
        },
        "id": "sl0xOZHUCx3L",
        "outputId": "4e8c6806-bac7-4009-fe78-902548ea5464"
      },
      "execution_count": null,
      "outputs": [
        {
          "output_type": "stream",
          "name": "stdout",
          "text": [
            "----- 큐 상태 -----\n",
            "[출구] <-- None banana orange apple melon <-- [입구] \n"
          ]
        }
      ]
    },
    {
      "cell_type": "code",
      "source": [
        "enQueue('water_melon')"
      ],
      "metadata": {
        "colab": {
          "base_uri": "https://localhost:8080/"
        },
        "id": "xhjIvDyjC6LV",
        "outputId": "23296465-e949-4acf-ec57-1af65610b1e7"
      },
      "execution_count": null,
      "outputs": [
        {
          "output_type": "stream",
          "name": "stdout",
          "text": [
            "큐가 꽉 찼습니다.\n"
          ]
        }
      ]
    },
    {
      "cell_type": "code",
      "source": [
        "print(deQueue())\n",
        "checkQueue()"
      ],
      "metadata": {
        "colab": {
          "base_uri": "https://localhost:8080/"
        },
        "id": "S_UbgMHoDCMB",
        "outputId": "cfd609e9-0b57-43ed-db5e-0697e39ff940"
      },
      "execution_count": null,
      "outputs": [
        {
          "output_type": "stream",
          "name": "stdout",
          "text": [
            "banana\n",
            "----- 큐 상태 -----\n",
            "[출구] <-- None None orange apple melon <-- [입구] \n"
          ]
        }
      ]
    },
    {
      "cell_type": "code",
      "source": [
        "print(deQueue())\n",
        "checkQueue()"
      ],
      "metadata": {
        "colab": {
          "base_uri": "https://localhost:8080/"
        },
        "id": "bXL_Lb8xDL-0",
        "outputId": "a524f9d3-bc33-4062-bd4f-1cd48f40a798"
      },
      "execution_count": null,
      "outputs": [
        {
          "output_type": "stream",
          "name": "stdout",
          "text": [
            "orange\n",
            "----- 큐 상태 -----\n",
            "[출구] <-- None None None apple melon <-- [입구] \n"
          ]
        }
      ]
    },
    {
      "cell_type": "code",
      "source": [
        "enQueue('orange')\n",
        "checkQueue()"
      ],
      "metadata": {
        "colab": {
          "base_uri": "https://localhost:8080/"
        },
        "id": "IKpBK2uaDRab",
        "outputId": "f54b6902-b9c6-4e21-eb59-21e1026e8d3f"
      },
      "execution_count": null,
      "outputs": [
        {
          "output_type": "stream",
          "name": "stdout",
          "text": [
            "----- 큐 상태 -----\n",
            "[출구] <-- orange None None apple melon <-- [입구] \n"
          ]
        }
      ]
    },
    {
      "cell_type": "code",
      "source": [
        "enQueue('tomato')\n",
        "checkQueue()"
      ],
      "metadata": {
        "colab": {
          "base_uri": "https://localhost:8080/"
        },
        "id": "VzzyeShuDaNe",
        "outputId": "e2c28873-10dd-42db-b7b9-7487a5e8fe67"
      },
      "execution_count": null,
      "outputs": [
        {
          "output_type": "stream",
          "name": "stdout",
          "text": [
            "----- 큐 상태 -----\n",
            "[출구] <-- orange tomato None apple melon <-- [입구] \n"
          ]
        }
      ]
    },
    {
      "cell_type": "code",
      "source": [
        "enQueue('water_melon')\n",
        "checkQueue()"
      ],
      "metadata": {
        "colab": {
          "base_uri": "https://localhost:8080/"
        },
        "id": "C1RvPrssDffL",
        "outputId": "43697dfb-66ed-42a7-cba3-b652f1f05a5d"
      },
      "execution_count": null,
      "outputs": [
        {
          "output_type": "stream",
          "name": "stdout",
          "text": [
            "큐가 꽉 찼습니다.\n",
            "----- 큐 상태 -----\n",
            "[출구] <-- orange tomato None apple melon <-- [입구] \n"
          ]
        }
      ]
    },
    {
      "cell_type": "code",
      "source": [
        "print(deQueue())\n",
        "checkQueue()"
      ],
      "metadata": {
        "colab": {
          "base_uri": "https://localhost:8080/"
        },
        "id": "zzZMU8xGDjOA",
        "outputId": "c0d0106c-b213-42ae-f95d-9c2bc52fb89c"
      },
      "execution_count": null,
      "outputs": [
        {
          "output_type": "stream",
          "name": "stdout",
          "text": [
            "apple\n",
            "----- 큐 상태 -----\n",
            "[출구] <-- orange tomato None None melon <-- [입구] \n"
          ]
        }
      ]
    },
    {
      "cell_type": "code",
      "source": [
        "print(deQueue())\n",
        "checkQueue()"
      ],
      "metadata": {
        "colab": {
          "base_uri": "https://localhost:8080/"
        },
        "id": "kZOHEV29DuYg",
        "outputId": "042f37d4-a70b-4d85-d59e-20be49d0f925"
      },
      "execution_count": null,
      "outputs": [
        {
          "output_type": "stream",
          "name": "stdout",
          "text": [
            "melon\n",
            "----- 큐 상태 -----\n",
            "[출구] <-- orange tomato None None None <-- [입구] \n"
          ]
        }
      ]
    },
    {
      "cell_type": "code",
      "source": [
        "print(deQueue())\n",
        "checkQueue()"
      ],
      "metadata": {
        "colab": {
          "base_uri": "https://localhost:8080/"
        },
        "id": "EnHQD_IsDxW8",
        "outputId": "44ee18bd-f44f-413c-f63d-c4e493a80943"
      },
      "execution_count": null,
      "outputs": [
        {
          "output_type": "stream",
          "name": "stdout",
          "text": [
            "orange\n",
            "----- 큐 상태 -----\n",
            "[출구] <-- None tomato None None None <-- [입구] \n"
          ]
        }
      ]
    },
    {
      "cell_type": "code",
      "source": [
        "print(deQueue())\n",
        "checkQueue()"
      ],
      "metadata": {
        "colab": {
          "base_uri": "https://localhost:8080/"
        },
        "id": "lVgFwdfJDyhM",
        "outputId": "d22bc634-c108-405f-b408-3780515ceb5e"
      },
      "execution_count": null,
      "outputs": [
        {
          "output_type": "stream",
          "name": "stdout",
          "text": [
            "tomato\n",
            "----- 큐 상태 -----\n",
            "[출구] <-- None None None None None <-- [입구] \n"
          ]
        }
      ]
    },
    {
      "cell_type": "code",
      "source": [
        "print(deQueue())\n",
        "checkQueue()"
      ],
      "metadata": {
        "colab": {
          "base_uri": "https://localhost:8080/"
        },
        "id": "ldYBfif4Dzw2",
        "outputId": "81eaebc1-6ed4-432d-922e-f159355c85c3"
      },
      "execution_count": null,
      "outputs": [
        {
          "output_type": "stream",
          "name": "stdout",
          "text": [
            "큐가 비었습니다.\n",
            "None\n",
            "----- 큐 상태 -----\n",
            "[출구] <-- None None None None None <-- [입구] \n"
          ]
        }
      ]
    }
  ],
  "metadata": {
    "colab": {
      "collapsed_sections": [],
      "name": "Queue_.ipynb",
      "provenance": [],
      "include_colab_link": true
    },
    "kernelspec": {
      "display_name": "Python 3",
      "name": "python3"
    },
    "language_info": {
      "codemirror_mode": {
        "name": "ipython",
        "version": 3
      },
      "file_extension": ".py",
      "mimetype": "text/x-python",
      "name": "python",
      "nbconvert_exporter": "python",
      "pygments_lexer": "ipython3",
      "version": "3.9.4"
    }
  },
  "nbformat": 4,
  "nbformat_minor": 0
}