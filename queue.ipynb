{
  "cells": [
    {
      "cell_type": "markdown",
      "metadata": {
        "colab_type": "text",
        "id": "view-in-github"
      },
      "source": [
        "<a href=\"https://colab.research.google.com/github/ykkim77/python-13th-week/blob/main/python_13th_week.ipynb\" target=\"_parent\"><img src=\"https://colab.research.google.com/assets/colab-badge.svg\" alt=\"Open In Colab\"/></a>"
      ]
    },
    {
      "cell_type": "markdown",
      "metadata": {
        "id": "_17Zhg4BXgzQ"
      },
      "source": [
        "# 큐"
      ]
    },
    {
      "cell_type": "markdown",
      "metadata": {
        "id": "Q_jsQatEZHj0"
      },
      "source": [
        "## 큐 핵심 코드 구현"
      ]
    },
    {
      "cell_type": "markdown",
      "metadata": {},
      "source": [
        "- 큐 정의"
      ]
    },
    {
      "cell_type": "code",
      "execution_count": 18,
      "metadata": {
        "id": "gJHLDQa3Xat-"
      },
      "outputs": [],
      "source": [
        "queue = [None, None, None]\n",
        "front = rear = -1\n"
      ]
    },
    {
      "cell_type": "markdown",
      "metadata": {
        "id": "3KOQIqLRZaed"
      },
      "source": [
        "- enQueue 구현"
      ]
    },
    {
      "cell_type": "code",
      "execution_count": 19,
      "metadata": {
        "id": "lDjoQ5CQZcKM"
      },
      "outputs": [],
      "source": [
        "rear += 1\n",
        "queue[rear] = 'python'"
      ]
    },
    {
      "cell_type": "code",
      "execution_count": 20,
      "metadata": {
        "id": "lDjoQ5CQZcKM"
      },
      "outputs": [],
      "source": [
        "rear += 1\n",
        "queue[rear] = 'java'"
      ]
    },
    {
      "cell_type": "code",
      "execution_count": 21,
      "metadata": {
        "id": "lDjoQ5CQZcKM"
      },
      "outputs": [],
      "source": [
        "rear += 1\n",
        "queue[rear] = 'scala'"
      ]
    },
    {
      "cell_type": "markdown",
      "metadata": {},
      "source": [
        "- 큐에 있는 데이터 알아보기"
      ]
    },
    {
      "cell_type": "code",
      "execution_count": 22,
      "metadata": {},
      "outputs": [
        {
          "name": "stdout",
          "output_type": "stream",
          "text": [
            "----- 큐 상태 -----\n",
            "[출구] <-- python java scala <-- [입구] \n"
          ]
        }
      ],
      "source": [
        "print(\"----- 큐 상태 -----\")\n",
        "print ( '[출구] <-- ', end='')\n",
        "for i in range(0, len(queue), 1) :\n",
        "\tprint(queue[i], end=' ')\n",
        "print ( '<-- [입구] ')"
      ]
    },
    {
      "cell_type": "markdown",
      "metadata": {},
      "source": [
        "- dequeue 구현"
      ]
    },
    {
      "cell_type": "code",
      "execution_count": 23,
      "metadata": {},
      "outputs": [
        {
          "name": "stdout",
          "output_type": "stream",
          "text": [
            "deQueue -->  python\n"
          ]
        }
      ],
      "source": [
        "front += 1\n",
        "data = queue[front]\n",
        "queue[front] = None\n",
        "print('deQueue --> ', data)"
      ]
    },
    {
      "cell_type": "code",
      "execution_count": 24,
      "metadata": {},
      "outputs": [
        {
          "name": "stdout",
          "output_type": "stream",
          "text": [
            "----- 큐 상태 -----\n",
            "[출구] <-- None java scala <-- [입구] \n"
          ]
        }
      ],
      "source": [
        "print(\"----- 큐 상태 -----\")\n",
        "print ( '[출구] <-- ', end='')\n",
        "for i in range(0, len(queue), 1) :\n",
        "\tprint(queue[i], end=' ')\n",
        "print ( '<-- [입구] ')"
      ]
    },
    {
      "cell_type": "code",
      "execution_count": 25,
      "metadata": {},
      "outputs": [
        {
          "name": "stdout",
          "output_type": "stream",
          "text": [
            "deQueue -->  java\n"
          ]
        }
      ],
      "source": [
        "front += 1\n",
        "data = queue[front]\n",
        "queue[front] = None\n",
        "print('deQueue --> ', data)"
      ]
    },
    {
      "cell_type": "code",
      "execution_count": 26,
      "metadata": {},
      "outputs": [
        {
          "name": "stdout",
          "output_type": "stream",
          "text": [
            "----- 큐 상태 -----\n",
            "[출구] <-- None None scala <-- [입구] \n"
          ]
        }
      ],
      "source": [
        "print(\"----- 큐 상태 -----\")\n",
        "print ( '[출구] <-- ', end='')\n",
        "for i in range(0, len(queue), 1) :\n",
        "\tprint(queue[i], end=' ')\n",
        "print ( '<-- [입구] ')"
      ]
    },
    {
      "cell_type": "code",
      "execution_count": 27,
      "metadata": {},
      "outputs": [
        {
          "name": "stdout",
          "output_type": "stream",
          "text": [
            "deQueue -->  scala\n"
          ]
        }
      ],
      "source": [
        "front += 1\n",
        "data = queue[front]\n",
        "queue[front] = None\n",
        "print('deQueue --> ', data)"
      ]
    },
    {
      "cell_type": "code",
      "execution_count": 28,
      "metadata": {},
      "outputs": [
        {
          "name": "stdout",
          "output_type": "stream",
          "text": [
            "----- 큐 상태 -----\n",
            "[출구] <-- None None None <-- [입구] \n"
          ]
        }
      ],
      "source": [
        "print(\"----- 큐 상태 -----\")\n",
        "print ( '[출구] <-- ', end='')\n",
        "for i in range(0, len(queue), 1) :\n",
        "\tprint(queue[i], end=' ')\n",
        "print ( '<-- [입구] ')"
      ]
    },
    {
      "cell_type": "markdown",
      "metadata": {},
      "source": [
        "- 큐에 있는 데이터 알아보기"
      ]
    },
    {
      "cell_type": "code",
      "execution_count": 29,
      "metadata": {},
      "outputs": [
        {
          "name": "stdout",
          "output_type": "stream",
          "text": [
            "----- 큐 상태 -----\n",
            "[출구] <-- None None None <-- [입구] \n"
          ]
        }
      ],
      "source": [
        "print(\"----- 큐 상태 -----\")\n",
        "print ( '[출구] <-- ', end='')\n",
        "for i in range(0, len(queue), 1) :\n",
        "\tprint(queue[i], end=' ')\n",
        "print ( '<-- [입구] ')"
      ]
    },
    {
      "cell_type": "markdown",
      "metadata": {},
      "source": [
        "## 큐 함수 구현"
      ]
    },
    {
      "cell_type": "markdown",
      "metadata": {},
      "source": [
        "### enqueue 함수"
      ]
    },
    {
      "cell_type": "markdown",
      "metadata": {},
      "source": [
        "- 큐가 꽉 찼는지 확인하는 isQueueFull 함수"
      ]
    },
    {
      "cell_type": "code",
      "execution_count": 30,
      "metadata": {},
      "outputs": [],
      "source": [
        "def isQueueFull() :\n",
        "\tglobal SIZE, queue, front, rear\n",
        "\tif (rear == SIZE-1) :\n",
        "\t\treturn True\n",
        "\telse :\n",
        "\t\treturn False"
      ]
    },
    {
      "cell_type": "markdown",
      "metadata": {},
      "source": [
        "- 원형 큐를 고려한 isQueueFull 함수"
      ]
    },
    {
      "cell_type": "code",
      "execution_count": 52,
      "metadata": {},
      "outputs": [],
      "source": [
        "def isQueueFull() :\n",
        "\tglobal SIZE, queue, front, rear\n",
        "\tif ( (rear + 1) % SIZE == front) :\n",
        "\t\treturn True\n",
        "\telse :\n",
        "\t\treturn False"
      ]
    },
    {
      "cell_type": "markdown",
      "metadata": {},
      "source": [
        "- 데이터 넣는 enQueue 함수 구현"
      ]
    },
    {
      "cell_type": "code",
      "execution_count": 31,
      "metadata": {},
      "outputs": [],
      "source": [
        "def enQueue(data) :\n",
        "\tglobal SIZE, queue, front, rear\n",
        "\tif (isQueueFull()) :\n",
        "\t\tprint(\"큐가 꽉 찼습니다.\")\n",
        "\t\treturn\n",
        "\trear += 1\n",
        "\tqueue[rear] = data"
      ]
    },
    {
      "cell_type": "markdown",
      "metadata": {},
      "source": [
        "- 원형 큐를 고려한 enQueue 함수"
      ]
    },
    {
      "cell_type": "code",
      "execution_count": 51,
      "metadata": {},
      "outputs": [],
      "source": [
        "def enQueue(data) :\n",
        "\tglobal SIZE, queue, front, rear\n",
        "\tif (isQueueFull()) :\n",
        "\t\tprint(\"큐가 꽉 찼습니다.\")\n",
        "\t\treturn\n",
        "\trear = (rear + 1) % SIZE\n",
        "\tqueue[rear] = data"
      ]
    },
    {
      "cell_type": "markdown",
      "metadata": {},
      "source": [
        "- 큐가 비었는지 확인하는 isQueueEmpty 함수"
      ]
    },
    {
      "cell_type": "code",
      "execution_count": 32,
      "metadata": {},
      "outputs": [],
      "source": [
        "def isQueueEmpty() :\n",
        "\tglobal SIZE, queue, front, rear\n",
        "\tif (front == rear) :\n",
        "\t\treturn True\n",
        "\telse :\n",
        "\t\treturn False"
      ]
    },
    {
      "cell_type": "code",
      "execution_count": 33,
      "metadata": {},
      "outputs": [],
      "source": [
        "def deQueue() :\n",
        "\tglobal SIZE, queue, front, rear\n",
        "\tif (isQueueEmpty()) :\n",
        "\t\tprint(\"큐가 비었습니다.\")\n",
        "\t\treturn None\n",
        "\tfront += 1\n",
        "\tdata = queue[front]\n",
        "\tqueue[front] = None\n",
        "\treturn data"
      ]
    },
    {
      "cell_type": "markdown",
      "metadata": {},
      "source": [
        "- 원형큐를 고려한 deQueue 함수"
      ]
    },
    {
      "cell_type": "code",
      "execution_count": null,
      "metadata": {},
      "outputs": [],
      "source": [
        "def deQueue() :\n",
        "\tglobal SIZE, queue, front, rear\n",
        "\tif (isQueueEmpty()) :\n",
        "\t\tprint(\"큐가 비었습니다.\")\n",
        "\t\treturn None\n",
        "\tfront = (front + 1) % SIZE\n",
        "\tdata = queue[front]\n",
        "\tqueue[front] = None\n",
        "\treturn data"
      ]
    },
    {
      "cell_type": "markdown",
      "metadata": {},
      "source": [
        "- 함수 사용 (일반 큐)"
      ]
    },
    {
      "cell_type": "code",
      "execution_count": null,
      "metadata": {},
      "outputs": [],
      "source": [
        "SIZE = 5\n",
        "queue = [ None for _ in range(SIZE) ]\n",
        "front = rear = -1\n",
        "\n",
        "enQueue('banana')\n",
        "enQueue('orange')\n",
        "enQueue('apple')\n",
        "enQueue('melon')\n",
        "enQueue('tomato')\n",
        "enQueue('')\n"
      ]
    },
    {
      "cell_type": "markdown",
      "metadata": {},
      "source": [
        "- peek 함수 구현"
      ]
    },
    {
      "cell_type": "code",
      "execution_count": 34,
      "metadata": {},
      "outputs": [],
      "source": [
        "def peek() :\n",
        "\tglobal SIZE, queue, front, rear\n",
        "\tif (isQueueEmpty()) :\n",
        "\t\tprint(\"큐가 비었습니다.\")\n",
        "\t\treturn None\n",
        "\treturn queue[(front + 1) % SIZE]"
      ]
    },
    {
      "cell_type": "markdown",
      "metadata": {},
      "source": [
        "- 함수 사용 (원형 큐)"
      ]
    },
    {
      "cell_type": "code",
      "execution_count": 45,
      "metadata": {},
      "outputs": [],
      "source": [
        "SIZE = 5\n",
        "queue = [ None for _ in range(SIZE) ]\n",
        "front = rear = -1\n",
        "\n",
        "enQueue('banana')\n",
        "enQueue('orange')\n",
        "enQueue('apple')\n",
        "enQueue('melon')\n",
        "enQueue('tomato')\n"
      ]
    },
    {
      "cell_type": "code",
      "execution_count": 46,
      "metadata": {},
      "outputs": [
        {
          "name": "stdout",
          "output_type": "stream",
          "text": [
            "큐가 꽉 찼습니다.\n"
          ]
        }
      ],
      "source": [
        "enQueue('strawberry')"
      ]
    },
    {
      "cell_type": "code",
      "execution_count": 47,
      "metadata": {},
      "outputs": [
        {
          "name": "stdout",
          "output_type": "stream",
          "text": [
            "banana\n"
          ]
        }
      ],
      "source": [
        "print(deQueue())"
      ]
    },
    {
      "cell_type": "code",
      "execution_count": 48,
      "metadata": {},
      "outputs": [
        {
          "name": "stdout",
          "output_type": "stream",
          "text": [
            "큐가 꽉 찼습니다.\n"
          ]
        }
      ],
      "source": [
        "enQueue('strawberry')"
      ]
    },
    {
      "cell_type": "code",
      "execution_count": 49,
      "metadata": {},
      "outputs": [
        {
          "name": "stdout",
          "output_type": "stream",
          "text": [
            "orange\n"
          ]
        }
      ],
      "source": [
        "print(deQueue())"
      ]
    },
    {
      "cell_type": "code",
      "execution_count": 50,
      "metadata": {},
      "outputs": [
        {
          "name": "stdout",
          "output_type": "stream",
          "text": [
            "큐가 꽉 찼습니다.\n"
          ]
        }
      ],
      "source": [
        "enQueue('strawberry')"
      ]
    }
  ],
  "metadata": {
    "colab": {
      "authorship_tag": "ABX9TyNfYEYHL4wCNbBmxfR+rFfd",
      "collapsed_sections": [],
      "include_colab_link": true,
      "name": "python-13th-week.ipynb",
      "provenance": []
    },
    "kernelspec": {
      "display_name": "Python 3",
      "name": "python3"
    },
    "language_info": {
      "codemirror_mode": {
        "name": "ipython",
        "version": 3
      },
      "file_extension": ".py",
      "mimetype": "text/x-python",
      "name": "python",
      "nbconvert_exporter": "python",
      "pygments_lexer": "ipython3",
      "version": "3.9.4"
    }
  },
  "nbformat": 4,
  "nbformat_minor": 0
}
